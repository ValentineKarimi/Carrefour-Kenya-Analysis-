{
  "nbformat": 4,
  "nbformat_minor": 0,
  "metadata": {
    "colab": {
      "name": "Anomaly detection.ipynb",
      "provenance": [],
      "collapsed_sections": [],
      "toc_visible": true,
      "authorship_tag": "ABX9TyO621FNfhY6LHeO3WRVhDhA",
      "include_colab_link": true
    },
    "kernelspec": {
      "name": "ir",
      "display_name": "R"
    }
  },
  "cells": [
    {
      "cell_type": "markdown",
      "metadata": {
        "id": "view-in-github",
        "colab_type": "text"
      },
      "source": [
        "<a href=\"https://colab.research.google.com/github/ValentineKarimi/Carrefour-Kenya-Analysis-/blob/main/Anomaly_detection.ipynb\" target=\"_parent\"><img src=\"https://colab.research.google.com/assets/colab-badge.svg\" alt=\"Open In Colab\"/></a>"
      ]
    },
    {
      "cell_type": "code",
      "metadata": {
        "id": "pzAma0tk9u9M",
        "outputId": "ad9b60fd-1052-473f-faa4-8f6745d28fb7",
        "colab": {
          "base_uri": "https://localhost:8080/"
        }
      },
      "source": [
        "install.packages(\"tibbletime\")\n",
        "install.packages(\"anomalize\")\n",
        "library(tidyverse)\n",
        "library(tibbletime)\n",
        "library(anomalize)"
      ],
      "execution_count": 1,
      "outputs": [
        {
          "output_type": "stream",
          "text": [
            "Installing package into ‘/usr/local/lib/R/site-library’\n",
            "(as ‘lib’ is unspecified)\n",
            "\n",
            "Installing package into ‘/usr/local/lib/R/site-library’\n",
            "(as ‘lib’ is unspecified)\n",
            "\n",
            "── \u001b[1mAttaching packages\u001b[22m ─────────────────────────────────────── tidyverse 1.3.0 ──\n",
            "\n",
            "\u001b[32m✔\u001b[39m \u001b[34mggplot2\u001b[39m 3.3.2     \u001b[32m✔\u001b[39m \u001b[34mpurrr  \u001b[39m 0.3.4\n",
            "\u001b[32m✔\u001b[39m \u001b[34mtibble \u001b[39m 3.0.4     \u001b[32m✔\u001b[39m \u001b[34mdplyr  \u001b[39m 1.0.2\n",
            "\u001b[32m✔\u001b[39m \u001b[34mtidyr  \u001b[39m 1.1.2     \u001b[32m✔\u001b[39m \u001b[34mstringr\u001b[39m 1.4.0\n",
            "\u001b[32m✔\u001b[39m \u001b[34mreadr  \u001b[39m 1.4.0     \u001b[32m✔\u001b[39m \u001b[34mforcats\u001b[39m 0.5.0\n",
            "\n",
            "── \u001b[1mConflicts\u001b[22m ────────────────────────────────────────── tidyverse_conflicts() ──\n",
            "\u001b[31m✖\u001b[39m \u001b[34mdplyr\u001b[39m::\u001b[32mfilter()\u001b[39m masks \u001b[34mstats\u001b[39m::filter()\n",
            "\u001b[31m✖\u001b[39m \u001b[34mdplyr\u001b[39m::\u001b[32mlag()\u001b[39m    masks \u001b[34mstats\u001b[39m::lag()\n",
            "\n",
            "\n",
            "Attaching package: ‘tibbletime’\n",
            "\n",
            "\n",
            "The following object is masked from ‘package:stats’:\n",
            "\n",
            "    filter\n",
            "\n",
            "\n",
            "\u001b[30m══\u001b[39m \u001b[30mUse anomalize to improve your Forecasts by 50%!\u001b[39m \u001b[30m═════════════════════════════\u001b[39m\u001b[34m\n",
            "Business Science offers a 1-hour course - Lab #18: Time Series Anomaly Detection!\n",
            "\u001b[39m\u001b[34m</> Learn more at: https://university.business-science.io/p/learning-labs-pro </>\u001b[39m\n",
            "\n"
          ],
          "name": "stderr"
        }
      ]
    },
    {
      "cell_type": "code",
      "metadata": {
        "id": "6-VNHr-b942D",
        "outputId": "a5ed2988-d093-47c7-9ef7-9c9586fef87b",
        "colab": {
          "base_uri": "https://localhost:8080/",
          "height": 349
        }
      },
      "source": [
        "#Read the dataset \n",
        "anomaly <- read_csv(\"http://bit.ly/CarreFourSalesDataset\")\n",
        "head(anomaly)"
      ],
      "execution_count": 2,
      "outputs": [
        {
          "output_type": "stream",
          "text": [
            "\n",
            "\u001b[36m──\u001b[39m \u001b[1m\u001b[1mColumn specification\u001b[1m\u001b[22m \u001b[36m────────────────────────────────────────────────────────\u001b[39m\n",
            "cols(\n",
            "  Date = \u001b[31mcol_character()\u001b[39m,\n",
            "  Sales = \u001b[32mcol_double()\u001b[39m\n",
            ")\n",
            "\n",
            "\n"
          ],
          "name": "stderr"
        },
        {
          "output_type": "display_data",
          "data": {
            "text/plain": [
              "  Date      Sales   \n",
              "1 1/5/2019  548.9715\n",
              "2 3/8/2019   80.2200\n",
              "3 3/3/2019  340.5255\n",
              "4 1/27/2019 489.0480\n",
              "5 2/8/2019  634.3785\n",
              "6 3/25/2019 627.6165"
            ],
            "text/latex": "A tibble: 6 × 2\n\\begin{tabular}{ll}\n Date & Sales\\\\\n <chr> & <dbl>\\\\\n\\hline\n\t 1/5/2019  & 548.9715\\\\\n\t 3/8/2019  &  80.2200\\\\\n\t 3/3/2019  & 340.5255\\\\\n\t 1/27/2019 & 489.0480\\\\\n\t 2/8/2019  & 634.3785\\\\\n\t 3/25/2019 & 627.6165\\\\\n\\end{tabular}\n",
            "text/markdown": "\nA tibble: 6 × 2\n\n| Date &lt;chr&gt; | Sales &lt;dbl&gt; |\n|---|---|\n| 1/5/2019  | 548.9715 |\n| 3/8/2019  |  80.2200 |\n| 3/3/2019  | 340.5255 |\n| 1/27/2019 | 489.0480 |\n| 2/8/2019  | 634.3785 |\n| 3/25/2019 | 627.6165 |\n\n",
            "text/html": [
              "<table>\n",
              "<caption>A tibble: 6 × 2</caption>\n",
              "<thead>\n",
              "\t<tr><th scope=col>Date</th><th scope=col>Sales</th></tr>\n",
              "\t<tr><th scope=col>&lt;chr&gt;</th><th scope=col>&lt;dbl&gt;</th></tr>\n",
              "</thead>\n",
              "<tbody>\n",
              "\t<tr><td>1/5/2019 </td><td>548.9715</td></tr>\n",
              "\t<tr><td>3/8/2019 </td><td> 80.2200</td></tr>\n",
              "\t<tr><td>3/3/2019 </td><td>340.5255</td></tr>\n",
              "\t<tr><td>1/27/2019</td><td>489.0480</td></tr>\n",
              "\t<tr><td>2/8/2019 </td><td>634.3785</td></tr>\n",
              "\t<tr><td>3/25/2019</td><td>627.6165</td></tr>\n",
              "</tbody>\n",
              "</table>\n"
            ]
          },
          "metadata": {
            "tags": []
          }
        }
      ]
    },
    {
      "cell_type": "markdown",
      "metadata": {
        "id": "DBNk_8Sy-vwt"
      },
      "source": [
        ""
      ]
    },
    {
      "cell_type": "code",
      "metadata": {
        "id": "8TmgSnDq-wVL",
        "outputId": "98a292e2-f1dd-4405-d4b7-53b2bae46fd6",
        "colab": {
          "base_uri": "https://localhost:8080/",
          "height": 35
        }
      },
      "source": [
        "#Check the datatype\n",
        "\n",
        "sapply(anomaly,class)\n"
      ],
      "execution_count": 3,
      "outputs": [
        {
          "output_type": "display_data",
          "data": {
            "text/plain": [
              "       Date       Sales \n",
              "\"character\"   \"numeric\" "
            ],
            "text/latex": "\\begin{description*}\n\\item[Date] 'character'\n\\item[Sales] 'numeric'\n\\end{description*}\n",
            "text/markdown": "Date\n:   'character'Sales\n:   'numeric'\n\n",
            "text/html": [
              "<style>\n",
              ".dl-inline {width: auto; margin:0; padding: 0}\n",
              ".dl-inline>dt, .dl-inline>dd {float: none; width: auto; display: inline-block}\n",
              ".dl-inline>dt::after {content: \":\\0020\"; padding-right: .5ex}\n",
              ".dl-inline>dt:not(:first-of-type) {padding-left: .5ex}\n",
              "</style><dl class=dl-inline><dt>Date</dt><dd>'character'</dd><dt>Sales</dt><dd>'numeric'</dd></dl>\n"
            ]
          },
          "metadata": {
            "tags": []
          }
        }
      ]
    },
    {
      "cell_type": "code",
      "metadata": {
        "id": "ROVO_rHs-YAn",
        "outputId": "a3bafb15-9990-4b7b-f881-ccd46cb24dc0",
        "colab": {
          "base_uri": "https://localhost:8080/",
          "height": 35
        }
      },
      "source": [
        "#Check missing values \n",
        "colSums(is.na(anomaly)) "
      ],
      "execution_count": 4,
      "outputs": [
        {
          "output_type": "display_data",
          "data": {
            "text/plain": [
              " Date Sales \n",
              "    0     0 "
            ],
            "text/latex": "\\begin{description*}\n\\item[Date] 0\n\\item[Sales] 0\n\\end{description*}\n",
            "text/markdown": "Date\n:   0Sales\n:   0\n\n",
            "text/html": [
              "<style>\n",
              ".dl-inline {width: auto; margin:0; padding: 0}\n",
              ".dl-inline>dt, .dl-inline>dd {float: none; width: auto; display: inline-block}\n",
              ".dl-inline>dt::after {content: \":\\0020\"; padding-right: .5ex}\n",
              ".dl-inline>dt:not(:first-of-type) {padding-left: .5ex}\n",
              "</style><dl class=dl-inline><dt>Date</dt><dd>0</dd><dt>Sales</dt><dd>0</dd></dl>\n"
            ]
          },
          "metadata": {
            "tags": []
          }
        }
      ]
    },
    {
      "cell_type": "code",
      "metadata": {
        "id": "mDzxSRuS-YDi",
        "outputId": "04f49219-cbc6-4f11-a45d-b5b5f3cfac8c",
        "colab": {
          "base_uri": "https://localhost:8080/"
        }
      },
      "source": [
        "#Display the internal structure \n",
        "str(anomaly)\n"
      ],
      "execution_count": 5,
      "outputs": [
        {
          "output_type": "stream",
          "text": [
            "tibble [1,000 × 2] (S3: spec_tbl_df/tbl_df/tbl/data.frame)\n",
            " $ Date : chr [1:1000] \"1/5/2019\" \"3/8/2019\" \"3/3/2019\" \"1/27/2019\" ...\n",
            " $ Sales: num [1:1000] 549 80.2 340.5 489 634.4 ...\n",
            " - attr(*, \"spec\")=\n",
            "  .. cols(\n",
            "  ..   Date = \u001b[31mcol_character()\u001b[39m,\n",
            "  ..   Sales = \u001b[32mcol_double()\u001b[39m\n",
            "  .. )\n"
          ],
          "name": "stdout"
        }
      ]
    },
    {
      "cell_type": "code",
      "metadata": {
        "id": "3yG-Lyw0U2VL"
      },
      "source": [
        "\n",
        "#getting the frequency\n",
        "frequency <- as.data.frame(table(anomaly$Date))"
      ],
      "execution_count": 6,
      "outputs": []
    },
    {
      "cell_type": "code",
      "metadata": {
        "id": "O3fAawYmXtK9",
        "outputId": "22df2315-c60d-4a41-aa52-2104a17ae459",
        "colab": {
          "base_uri": "https://localhost:8080/",
          "height": 221
        }
      },
      "source": [
        "\n",
        "head(frequency)"
      ],
      "execution_count": 8,
      "outputs": [
        {
          "output_type": "display_data",
          "data": {
            "text/plain": [
              "  Var1      Freq\n",
              "1 1/1/2019  12  \n",
              "2 1/10/2019  9  \n",
              "3 1/11/2019  8  \n",
              "4 1/12/2019 11  \n",
              "5 1/13/2019 10  \n",
              "6 1/14/2019 13  "
            ],
            "text/latex": "A data.frame: 6 × 2\n\\begin{tabular}{r|ll}\n  & Var1 & Freq\\\\\n  & <fct> & <int>\\\\\n\\hline\n\t1 & 1/1/2019  & 12\\\\\n\t2 & 1/10/2019 &  9\\\\\n\t3 & 1/11/2019 &  8\\\\\n\t4 & 1/12/2019 & 11\\\\\n\t5 & 1/13/2019 & 10\\\\\n\t6 & 1/14/2019 & 13\\\\\n\\end{tabular}\n",
            "text/markdown": "\nA data.frame: 6 × 2\n\n| <!--/--> | Var1 &lt;fct&gt; | Freq &lt;int&gt; |\n|---|---|---|\n| 1 | 1/1/2019  | 12 |\n| 2 | 1/10/2019 |  9 |\n| 3 | 1/11/2019 |  8 |\n| 4 | 1/12/2019 | 11 |\n| 5 | 1/13/2019 | 10 |\n| 6 | 1/14/2019 | 13 |\n\n",
            "text/html": [
              "<table>\n",
              "<caption>A data.frame: 6 × 2</caption>\n",
              "<thead>\n",
              "\t<tr><th></th><th scope=col>Var1</th><th scope=col>Freq</th></tr>\n",
              "\t<tr><th></th><th scope=col>&lt;fct&gt;</th><th scope=col>&lt;int&gt;</th></tr>\n",
              "</thead>\n",
              "<tbody>\n",
              "\t<tr><th scope=row>1</th><td>1/1/2019 </td><td>12</td></tr>\n",
              "\t<tr><th scope=row>2</th><td>1/10/2019</td><td> 9</td></tr>\n",
              "\t<tr><th scope=row>3</th><td>1/11/2019</td><td> 8</td></tr>\n",
              "\t<tr><th scope=row>4</th><td>1/12/2019</td><td>11</td></tr>\n",
              "\t<tr><th scope=row>5</th><td>1/13/2019</td><td>10</td></tr>\n",
              "\t<tr><th scope=row>6</th><td>1/14/2019</td><td>13</td></tr>\n",
              "</tbody>\n",
              "</table>\n"
            ]
          },
          "metadata": {
            "tags": []
          }
        }
      ]
    },
    {
      "cell_type": "code",
      "metadata": {
        "id": "6PbQEhk4gwSI"
      },
      "source": [
        "# convert column to date class\n",
        "frequency$Var1 <- as.Date(frequency$Var1)"
      ],
      "execution_count": 9,
      "outputs": []
    },
    {
      "cell_type": "code",
      "metadata": {
        "id": "E24z6WKng_zG"
      },
      "source": [
        "#Change datatype of varibale var1 to tbl_time for easier anomaly detection \n",
        "\n",
        "frequency1<- as_tbl_time(frequency, Var1)"
      ],
      "execution_count": 10,
      "outputs": []
    },
    {
      "cell_type": "code",
      "metadata": {
        "id": "X62z0FgkgwVM",
        "outputId": "ff7359e7-aacc-433a-96a6-45b84ba21c82",
        "colab": {
          "base_uri": "https://localhost:8080/",
          "height": 221
        }
      },
      "source": [
        "head(frequency1)"
      ],
      "execution_count": 11,
      "outputs": [
        {
          "output_type": "display_data",
          "data": {
            "text/plain": [
              "  Var1    Freq\n",
              "1 1-01-20 12  \n",
              "2 1-10-20  9  \n",
              "3 1-11-20  8  \n",
              "4 1-12-20 11  \n",
              "5 <NA>    10  \n",
              "6 <NA>    13  "
            ],
            "text/latex": "A tbl\\_time: 6 × 2\n\\begin{tabular}{ll}\n Var1 & Freq\\\\\n <date> & <int>\\\\\n\\hline\n\t 1-01-20 & 12\\\\\n\t 1-10-20 &  9\\\\\n\t 1-11-20 &  8\\\\\n\t 1-12-20 & 11\\\\\n\t NA & 10\\\\\n\t NA & 13\\\\\n\\end{tabular}\n",
            "text/markdown": "\nA tbl_time: 6 × 2\n\n| Var1 &lt;date&gt; | Freq &lt;int&gt; |\n|---|---|\n| 1-01-20 | 12 |\n| 1-10-20 |  9 |\n| 1-11-20 |  8 |\n| 1-12-20 | 11 |\n| NA | 10 |\n| NA | 13 |\n\n",
            "text/html": [
              "<table>\n",
              "<caption>A tbl_time: 6 × 2</caption>\n",
              "<thead>\n",
              "\t<tr><th scope=col>Var1</th><th scope=col>Freq</th></tr>\n",
              "\t<tr><th scope=col>&lt;date&gt;</th><th scope=col>&lt;int&gt;</th></tr>\n",
              "</thead>\n",
              "<tbody>\n",
              "\t<tr><td>1-01-20</td><td>12</td></tr>\n",
              "\t<tr><td>1-10-20</td><td> 9</td></tr>\n",
              "\t<tr><td>1-11-20</td><td> 8</td></tr>\n",
              "\t<tr><td>1-12-20</td><td>11</td></tr>\n",
              "\t<tr><td>NA</td><td>10</td></tr>\n",
              "\t<tr><td>NA</td><td>13</td></tr>\n",
              "</tbody>\n",
              "</table>\n"
            ]
          },
          "metadata": {
            "tags": []
          }
        }
      ]
    },
    {
      "cell_type": "code",
      "metadata": {
        "id": "8beY0VCSgwYU",
        "outputId": "a99a53f7-e950-4905-c535-ff79475e6061",
        "colab": {
          "base_uri": "https://localhost:8080/"
        }
      },
      "source": [
        "#Check for missing values \n",
        "print(colSums(is.na(frequency1)))\n"
      ],
      "execution_count": 12,
      "outputs": [
        {
          "output_type": "stream",
          "text": [
            "Var1 Freq \n",
            "  53    0 \n"
          ],
          "name": "stdout"
        }
      ]
    },
    {
      "cell_type": "code",
      "metadata": {
        "id": "OQ51FMgwgwbF"
      },
      "source": [
        "#Remove missing data \n",
        "newdata <- na.omit(frequency1)"
      ],
      "execution_count": 13,
      "outputs": []
    },
    {
      "cell_type": "code",
      "metadata": {
        "id": "ILbvTeXEgwd6",
        "outputId": "82765531-d592-47de-e262-e3259106273d",
        "colab": {
          "base_uri": "https://localhost:8080/"
        }
      },
      "source": [
        "#Confirm missing data is removed\n",
        "print(colSums(is.na(newdata)))"
      ],
      "execution_count": 14,
      "outputs": [
        {
          "output_type": "stream",
          "text": [
            "Var1 Freq \n",
            "   0    0 \n"
          ],
          "name": "stdout"
        }
      ]
    },
    {
      "cell_type": "markdown",
      "metadata": {
        "id": "8d0OLxxshebj"
      },
      "source": [
        "time_decompose(): Separates the time series into seasonal, trend, and remainder components\n",
        "\n",
        "\n",
        "anomalize(): Applies anomaly detection methods to the remainder component.\n",
        "\n",
        "\n",
        "time_recompose(): Calculates limits that separate the “normal” data from the anomalies!"
      ]
    },
    {
      "cell_type": "code",
      "metadata": {
        "id": "-5NgQdmggwic",
        "outputId": "fccff85e-4a5e-4bc8-e15a-65d7ac51f24d",
        "colab": {
          "base_uri": "https://localhost:8080/"
        }
      },
      "source": [
        "newdata_anomalized <- newdata %>%\n",
        "    time_decompose(Freq, merge = TRUE) %>%\n",
        "    anomalize(remainder) %>%\n",
        "    time_recompose()"
      ],
      "execution_count": 15,
      "outputs": [
        {
          "output_type": "stream",
          "text": [
            "Note: Index not ordered. tibbletime assumes index is in ascending order. Results may not be as desired.\n",
            "\n",
            "frequency = 12 months\n",
            "\n",
            "Note: Index not ordered. tibbletime assumes index is in ascending order. Results may not be as desired.\n",
            "\n",
            "Note: Index not ordered. tibbletime assumes index is in ascending order. Results may not be as desired.\n",
            "\n",
            "trend = 12 months\n",
            "\n",
            "Registered S3 method overwritten by 'quantmod':\n",
            "  method            from\n",
            "  as.zoo.data.frame zoo \n",
            "\n"
          ],
          "name": "stderr"
        }
      ]
    },
    {
      "cell_type": "code",
      "metadata": {
        "id": "Gq8cQcK8gwl4",
        "outputId": "05105331-154b-4712-ad27-c0e612b43cdf",
        "colab": {
          "base_uri": "https://localhost:8080/"
        }
      },
      "source": [
        "# see  how anomaly occured \n",
        "newdata_anomalized %>% glimpse()"
      ],
      "execution_count": 16,
      "outputs": [
        {
          "output_type": "stream",
          "text": [
            "Rows: 36\n",
            "Columns: 11\n",
            "$ Var1          \u001b[3m\u001b[90m<date>\u001b[39m\u001b[23m 1-01-20, 1-02-20, 1-03-20, 1-04-20, 1-05-20, 1-06-20, …\n",
            "$ Freq          \u001b[3m\u001b[90m<int>\u001b[39m\u001b[23m 12, 8, 8, 6, 12, 9, 9, 18, 8, 9, 8, 11, 6, 14, 14, 11, …\n",
            "$ observed      \u001b[3m\u001b[90m<dbl>\u001b[39m\u001b[23m 12, 9, 8, 11, 8, 8, 6, 12, 9, 9, 18, 8, 6, 11, 8, 8, 14…\n",
            "$ season        \u001b[3m\u001b[90m<dbl>\u001b[39m\u001b[23m -1.65298855, -0.22495736, -1.85490548, -0.61548453, 2.7…\n",
            "$ trend         \u001b[3m\u001b[90m<dbl>\u001b[39m\u001b[23m 11.141894, 10.622076, 10.102257, 9.661878, 9.221499, 8.…\n",
            "$ remainder     \u001b[3m\u001b[90m<dbl>\u001b[39m\u001b[23m 2.51109430, -1.39711816, -0.24735131, 1.95360649, -4.00…\n",
            "$ remainder_l1  \u001b[3m\u001b[90m<dbl>\u001b[39m\u001b[23m -9.85197, -9.85197, -9.85197, -9.85197, -9.85197, -9.85…\n",
            "$ remainder_l2  \u001b[3m\u001b[90m<dbl>\u001b[39m\u001b[23m 10.01754, 10.01754, 10.01754, 10.01754, 10.01754, 10.01…\n",
            "$ anomaly       \u001b[3m\u001b[90m<chr>\u001b[39m\u001b[23m \"No\", \"No\", \"No\", \"No\", \"No\", \"No\", \"No\", \"No\", \"No\", \"…\n",
            "$ recomposed_l1 \u001b[3m\u001b[90m<dbl>\u001b[39m\u001b[23m -0.36306398, 0.54514849, -1.60461836, -0.80557617, 2.15…\n",
            "$ recomposed_l2 \u001b[3m\u001b[90m<dbl>\u001b[39m\u001b[23m 19.50645, 20.41466, 18.26490, 19.06394, 22.02085, 19.96…\n"
          ],
          "name": "stdout"
        }
      ]
    },
    {
      "cell_type": "code",
      "metadata": {
        "id": "NI4Bwxjqhxnl",
        "outputId": "a94ed3ea-58bb-4c12-d4b0-e46daf0bc987",
        "colab": {
          "base_uri": "https://localhost:8080/",
          "height": 619
        }
      },
      "source": [
        "#Plotting\n",
        "newdata %>%\n",
        "    time_decompose(Freq) %>%\n",
        "    anomalize(remainder) %>%\n",
        "    time_recompose() %>%\n",
        "    plot_anomalies(time_recomposed = TRUE, ncol = 3, alpha_dots = 0.5)"
      ],
      "execution_count": 18,
      "outputs": [
        {
          "output_type": "stream",
          "text": [
            "Note: Index not ordered. tibbletime assumes index is in ascending order. Results may not be as desired.\n",
            "\n",
            "frequency = 12 months\n",
            "\n",
            "Note: Index not ordered. tibbletime assumes index is in ascending order. Results may not be as desired.\n",
            "\n",
            "Note: Index not ordered. tibbletime assumes index is in ascending order. Results may not be as desired.\n",
            "\n",
            "trend = 12 months\n",
            "\n"
          ],
          "name": "stderr"
        },
        {
          "output_type": "display_data",
          "data": {
            "image/png": "[encoded data removed]",
            "text/plain": [
              "plot without title"
            ]
          },
          "metadata": {
            "tags": [],
            "image/png": {
              "width": 420,
              "height": 420
            }
          }
        }
      ]
    },
    {
      "cell_type": "markdown",
      "metadata": {
        "id": "KxvHWTUVh6iu"
      },
      "source": [
        "No anomaly detected "
      ]
    }
  ]
}